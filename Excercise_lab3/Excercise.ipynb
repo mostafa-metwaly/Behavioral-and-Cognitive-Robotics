{
 "cells": [
  {
   "cell_type": "markdown",
   "id": "3e182bda-e27f-407b-9d68-0a6872f2eddf",
   "metadata": {},
   "source": [
    "# Behavioral and Cognitive Robotics \n",
    "## Reinenforcement Learning \n",
    "\n",
    "### Lab Excercise 3"
   ]
  },
  {
   "cell_type": "markdown",
   "id": "d6651992-5dfa-4f7a-8ac0-a8ce19f7be9e",
   "metadata": {},
   "source": [
    "# 1. Import dependencies"
   ]
  },
  {
   "cell_type": "code",
   "execution_count": 3,
   "id": "0988408e-33af-468c-b942-68de95fd4b5a",
   "metadata": {},
   "outputs": [
    {
     "name": "stdout",
     "output_type": "stream",
     "text": [
      "Requirement already satisfied: stable-baselines3[extra] in /root/.pyenv/versions/3.8.11/lib/python3.8/site-packages (1.3.0)\n",
      "Requirement already satisfied: torch>=1.8.1 in /root/.pyenv/versions/3.8.11/lib/python3.8/site-packages (from stable-baselines3[extra]) (1.9.0+cu111)\n",
      "Requirement already satisfied: pandas in /root/.pyenv/versions/3.8.11/lib/python3.8/site-packages (from stable-baselines3[extra]) (1.3.4)\n",
      "Requirement already satisfied: numpy in /root/.pyenv/versions/3.8.11/lib/python3.8/site-packages (from stable-baselines3[extra]) (1.19.5)\n",
      "Requirement already satisfied: gym<0.20,>=0.17 in /root/.pyenv/versions/3.8.11/lib/python3.8/site-packages (from stable-baselines3[extra]) (0.19.0)\n",
      "Requirement already satisfied: matplotlib in /root/.pyenv/versions/3.8.11/lib/python3.8/site-packages (from stable-baselines3[extra]) (3.5.0)\n",
      "Requirement already satisfied: cloudpickle in /root/.pyenv/versions/3.8.11/lib/python3.8/site-packages (from stable-baselines3[extra]) (1.6.0)\n",
      "Requirement already satisfied: tensorboard>=2.2.0 in /root/.pyenv/versions/3.8.11/lib/python3.8/site-packages (from stable-baselines3[extra]) (2.5.0)\n",
      "Requirement already satisfied: pillow in /root/.pyenv/versions/3.8.11/lib/python3.8/site-packages (from stable-baselines3[extra]) (8.3.1)\n",
      "Requirement already satisfied: atari-py~=0.2.0 in /root/.pyenv/versions/3.8.11/lib/python3.8/site-packages (from stable-baselines3[extra]) (0.2.9)\n",
      "Requirement already satisfied: opencv-python in /root/.pyenv/versions/3.8.11/lib/python3.8/site-packages (from stable-baselines3[extra]) (4.5.4.60)\n",
      "Requirement already satisfied: psutil in /root/.pyenv/versions/3.8.11/lib/python3.8/site-packages (from stable-baselines3[extra]) (5.8.0)\n",
      "Requirement already satisfied: six in /root/.pyenv/versions/3.8.11/lib/python3.8/site-packages (from atari-py~=0.2.0->stable-baselines3[extra]) (1.15.0)\n",
      "Requirement already satisfied: tensorboard-plugin-wit>=1.6.0 in /root/.pyenv/versions/3.8.11/lib/python3.8/site-packages (from tensorboard>=2.2.0->stable-baselines3[extra]) (1.8.0)\n",
      "Requirement already satisfied: requests<3,>=2.21.0 in /root/.pyenv/versions/3.8.11/lib/python3.8/site-packages (from tensorboard>=2.2.0->stable-baselines3[extra]) (2.26.0)\n",
      "Requirement already satisfied: google-auth-oauthlib<0.5,>=0.4.1 in /root/.pyenv/versions/3.8.11/lib/python3.8/site-packages (from tensorboard>=2.2.0->stable-baselines3[extra]) (0.4.5)\n",
      "Requirement already satisfied: grpcio>=1.24.3 in /root/.pyenv/versions/3.8.11/lib/python3.8/site-packages (from tensorboard>=2.2.0->stable-baselines3[extra]) (1.34.1)\n",
      "Requirement already satisfied: google-auth<2,>=1.6.3 in /root/.pyenv/versions/3.8.11/lib/python3.8/site-packages (from tensorboard>=2.2.0->stable-baselines3[extra]) (1.34.0)\n",
      "Requirement already satisfied: protobuf>=3.6.0 in /root/.pyenv/versions/3.8.11/lib/python3.8/site-packages (from tensorboard>=2.2.0->stable-baselines3[extra]) (3.17.3)\n",
      "Requirement already satisfied: wheel>=0.26 in /root/.pyenv/versions/3.8.11/lib/python3.8/site-packages (from tensorboard>=2.2.0->stable-baselines3[extra]) (0.36.2)\n",
      "Requirement already satisfied: absl-py>=0.4 in /root/.pyenv/versions/3.8.11/lib/python3.8/site-packages (from tensorboard>=2.2.0->stable-baselines3[extra]) (0.13.0)\n",
      "Requirement already satisfied: werkzeug>=0.11.15 in /root/.pyenv/versions/3.8.11/lib/python3.8/site-packages (from tensorboard>=2.2.0->stable-baselines3[extra]) (2.0.1)\n",
      "Requirement already satisfied: tensorboard-data-server<0.7.0,>=0.6.0 in /root/.pyenv/versions/3.8.11/lib/python3.8/site-packages (from tensorboard>=2.2.0->stable-baselines3[extra]) (0.6.1)\n",
      "Requirement already satisfied: setuptools>=41.0.0 in /root/.pyenv/versions/3.8.11/lib/python3.8/site-packages (from tensorboard>=2.2.0->stable-baselines3[extra]) (56.0.0)\n",
      "Requirement already satisfied: markdown>=2.6.8 in /root/.pyenv/versions/3.8.11/lib/python3.8/site-packages (from tensorboard>=2.2.0->stable-baselines3[extra]) (3.3.4)\n",
      "Requirement already satisfied: cachetools<5.0,>=2.0.0 in /root/.pyenv/versions/3.8.11/lib/python3.8/site-packages (from google-auth<2,>=1.6.3->tensorboard>=2.2.0->stable-baselines3[extra]) (4.2.2)\n",
      "Requirement already satisfied: pyasn1-modules>=0.2.1 in /root/.pyenv/versions/3.8.11/lib/python3.8/site-packages (from google-auth<2,>=1.6.3->tensorboard>=2.2.0->stable-baselines3[extra]) (0.2.8)\n",
      "Requirement already satisfied: rsa<5,>=3.1.4 in /root/.pyenv/versions/3.8.11/lib/python3.8/site-packages (from google-auth<2,>=1.6.3->tensorboard>=2.2.0->stable-baselines3[extra]) (4.7.2)\n",
      "Requirement already satisfied: requests-oauthlib>=0.7.0 in /root/.pyenv/versions/3.8.11/lib/python3.8/site-packages (from google-auth-oauthlib<0.5,>=0.4.1->tensorboard>=2.2.0->stable-baselines3[extra]) (1.3.0)\n",
      "Requirement already satisfied: pyasn1<0.5.0,>=0.4.6 in /root/.pyenv/versions/3.8.11/lib/python3.8/site-packages (from pyasn1-modules>=0.2.1->google-auth<2,>=1.6.3->tensorboard>=2.2.0->stable-baselines3[extra]) (0.4.8)\n",
      "Requirement already satisfied: urllib3<1.27,>=1.21.1 in /root/.pyenv/versions/3.8.11/lib/python3.8/site-packages (from requests<3,>=2.21.0->tensorboard>=2.2.0->stable-baselines3[extra]) (1.26.6)\n",
      "Requirement already satisfied: idna<4,>=2.5 in /root/.pyenv/versions/3.8.11/lib/python3.8/site-packages (from requests<3,>=2.21.0->tensorboard>=2.2.0->stable-baselines3[extra]) (3.2)\n",
      "Requirement already satisfied: certifi>=2017.4.17 in /root/.pyenv/versions/3.8.11/lib/python3.8/site-packages (from requests<3,>=2.21.0->tensorboard>=2.2.0->stable-baselines3[extra]) (2021.5.30)\n",
      "Requirement already satisfied: charset-normalizer~=2.0.0 in /root/.pyenv/versions/3.8.11/lib/python3.8/site-packages (from requests<3,>=2.21.0->tensorboard>=2.2.0->stable-baselines3[extra]) (2.0.4)\n",
      "Requirement already satisfied: oauthlib>=3.0.0 in /root/.pyenv/versions/3.8.11/lib/python3.8/site-packages (from requests-oauthlib>=0.7.0->google-auth-oauthlib<0.5,>=0.4.1->tensorboard>=2.2.0->stable-baselines3[extra]) (3.1.1)\n",
      "Requirement already satisfied: typing-extensions in /root/.pyenv/versions/3.8.11/lib/python3.8/site-packages (from torch>=1.8.1->stable-baselines3[extra]) (3.7.4.3)\n",
      "Requirement already satisfied: packaging>=20.0 in /root/.pyenv/versions/3.8.11/lib/python3.8/site-packages (from matplotlib->stable-baselines3[extra]) (21.0)\n",
      "Requirement already satisfied: python-dateutil>=2.7 in /root/.pyenv/versions/3.8.11/lib/python3.8/site-packages (from matplotlib->stable-baselines3[extra]) (2.8.2)\n",
      "Requirement already satisfied: setuptools-scm>=4 in /root/.pyenv/versions/3.8.11/lib/python3.8/site-packages (from matplotlib->stable-baselines3[extra]) (6.3.2)\n",
      "Requirement already satisfied: cycler>=0.10 in /root/.pyenv/versions/3.8.11/lib/python3.8/site-packages (from matplotlib->stable-baselines3[extra]) (0.11.0)\n",
      "Requirement already satisfied: fonttools>=4.22.0 in /root/.pyenv/versions/3.8.11/lib/python3.8/site-packages (from matplotlib->stable-baselines3[extra]) (4.28.2)\n",
      "Requirement already satisfied: kiwisolver>=1.0.1 in /root/.pyenv/versions/3.8.11/lib/python3.8/site-packages (from matplotlib->stable-baselines3[extra]) (1.3.2)\n",
      "Requirement already satisfied: pyparsing>=2.2.1 in /root/.pyenv/versions/3.8.11/lib/python3.8/site-packages (from matplotlib->stable-baselines3[extra]) (2.4.7)\n",
      "Requirement already satisfied: tomli>=1.0.0 in /root/.pyenv/versions/3.8.11/lib/python3.8/site-packages (from setuptools-scm>=4->matplotlib->stable-baselines3[extra]) (1.2.2)\n",
      "Requirement already satisfied: pytz>=2017.3 in /root/.pyenv/versions/3.8.11/lib/python3.8/site-packages (from pandas->stable-baselines3[extra]) (2021.1)\n",
      "\u001b[33mWARNING: Running pip as the 'root' user can result in broken permissions and conflicting behaviour with the system package manager. It is recommended to use a virtual environment instead: https://pip.pypa.io/warnings/venv\u001b[0m\n",
      "\u001b[33mWARNING: You are using pip version 21.2.2; however, version 21.3.1 is available.\n",
      "You should consider upgrading via the '/root/.pyenv/versions/3.8.11/bin/python3.8 -m pip install --upgrade pip' command.\u001b[0m\n"
     ]
    }
   ],
   "source": [
    "!pip install stable-baselines3[extra]"
   ]
  },
  {
   "cell_type": "code",
   "execution_count": 4,
   "id": "d91d0142-0f96-4268-8fb0-9b7b910e4769",
   "metadata": {},
   "outputs": [],
   "source": [
    "import gym \n",
    "from stable_baselines3 import PPO\n",
    "from stable_baselines3.common.vec_env import DummyVecEnv\n",
    "from stable_baselines3.common.evaluation import evaluate_policy\n",
    "import os\n"
   ]
  },
  {
   "cell_type": "code",
   "execution_count": null,
   "id": "930c629b-b38b-4715-884b-51b9d8856ae7",
   "metadata": {},
   "outputs": [],
   "source": []
  },
  {
   "cell_type": "markdown",
   "id": "95dae4cc-ed7f-45a1-9e2b-932a1fba9cff",
   "metadata": {
    "tags": []
   },
   "source": [
    "# 2. Load Environment"
   ]
  },
  {
   "cell_type": "code",
   "execution_count": 5,
   "id": "deaaa2b8-aaa8-4da4-bd62-64340950c39d",
   "metadata": {},
   "outputs": [],
   "source": [
    "environment_name = \"CartPole-v0\""
   ]
  },
  {
   "cell_type": "code",
   "execution_count": 6,
   "id": "fae6a337-5f9e-48b7-aa4b-e6e23e8386ff",
   "metadata": {},
   "outputs": [],
   "source": [
    "env = gym.make(environment_name)"
   ]
  },
  {
   "cell_type": "markdown",
   "id": "35b554dd-e84d-4be1-8cc9-fc63b7900fc7",
   "metadata": {
    "tags": []
   },
   "source": [
    "Running the Enviroment using a random action sample\n",
    "and viewing the score of it.\n"
   ]
  },
  {
   "cell_type": "code",
   "execution_count": 7,
   "id": "52d276e8-d844-4191-a89a-14186d068949",
   "metadata": {},
   "outputs": [
    {
     "name": "stdout",
     "output_type": "stream",
     "text": [
      "Episode:1 Score:13.0\n",
      "Episode:2 Score:15.0\n",
      "Episode:3 Score:94.0\n",
      "Episode:4 Score:15.0\n",
      "Episode:5 Score:11.0\n"
     ]
    }
   ],
   "source": [
    "episodes = 5\n",
    "for episode in range(1, episodes+1):\n",
    "    state = env.reset()\n",
    "    done = False\n",
    "    score = 0 \n",
    "    \n",
    "    while not done:\n",
    "        env.render()\n",
    "        action = env.action_space.sample()\n",
    "        n_state, reward, done, info = env.step(action)\n",
    "        score+=reward\n",
    "    print('Episode:{} Score:{}'.format(episode, score))\n",
    "env.close()"
   ]
  },
  {
   "cell_type": "markdown",
   "id": "c7fdb9b0-1070-48f6-bcfb-9797fb96d645",
   "metadata": {},
   "source": [
    "# 3. Train an RL Model"
   ]
  },
  {
   "cell_type": "code",
   "execution_count": 8,
   "id": "049fe734-e072-43a3-9b6b-57019fbd2958",
   "metadata": {},
   "outputs": [
    {
     "name": "stdout",
     "output_type": "stream",
     "text": [
      "Using cuda device\n"
     ]
    }
   ],
   "source": [
    "env = gym.make(environment_name)\n",
    "env = DummyVecEnv([lambda: env])\n",
    "model = PPO('MlpPolicy', env, verbose = 1)"
   ]
  },
  {
   "cell_type": "code",
   "execution_count": 9,
   "id": "17460690-0a86-4661-ba89-03d328509752",
   "metadata": {
    "scrolled": true
   },
   "outputs": [
    {
     "name": "stdout",
     "output_type": "stream",
     "text": [
      "-----------------------------\n",
      "| time/              |      |\n",
      "|    fps             | 841  |\n",
      "|    iterations      | 1    |\n",
      "|    time_elapsed    | 2    |\n",
      "|    total_timesteps | 2048 |\n",
      "-----------------------------\n",
      "-----------------------------------------\n",
      "| time/                   |             |\n",
      "|    fps                  | 598         |\n",
      "|    iterations           | 2           |\n",
      "|    time_elapsed         | 6           |\n",
      "|    total_timesteps      | 4096        |\n",
      "| train/                  |             |\n",
      "|    approx_kl            | 0.008265652 |\n",
      "|    clip_fraction        | 0.0754      |\n",
      "|    clip_range           | 0.2         |\n",
      "|    entropy_loss         | -0.687      |\n",
      "|    explained_variance   | -0.00106    |\n",
      "|    learning_rate        | 0.0003      |\n",
      "|    loss                 | 9.27        |\n",
      "|    n_updates            | 10          |\n",
      "|    policy_gradient_loss | -0.0119     |\n",
      "|    value_loss           | 55.9        |\n",
      "-----------------------------------------\n",
      "-----------------------------------------\n",
      "| time/                   |             |\n",
      "|    fps                  | 539         |\n",
      "|    iterations           | 3           |\n",
      "|    time_elapsed         | 11          |\n",
      "|    total_timesteps      | 6144        |\n",
      "| train/                  |             |\n",
      "|    approx_kl            | 0.010010296 |\n",
      "|    clip_fraction        | 0.0665      |\n",
      "|    clip_range           | 0.2         |\n",
      "|    entropy_loss         | -0.666      |\n",
      "|    explained_variance   | 0.0932      |\n",
      "|    learning_rate        | 0.0003      |\n",
      "|    loss                 | 16.3        |\n",
      "|    n_updates            | 20          |\n",
      "|    policy_gradient_loss | -0.0181     |\n",
      "|    value_loss           | 38.4        |\n",
      "-----------------------------------------\n",
      "-----------------------------------------\n",
      "| time/                   |             |\n",
      "|    fps                  | 526         |\n",
      "|    iterations           | 4           |\n",
      "|    time_elapsed         | 15          |\n",
      "|    total_timesteps      | 8192        |\n",
      "| train/                  |             |\n",
      "|    approx_kl            | 0.011415818 |\n",
      "|    clip_fraction        | 0.121       |\n",
      "|    clip_range           | 0.2         |\n",
      "|    entropy_loss         | -0.627      |\n",
      "|    explained_variance   | 0.272       |\n",
      "|    learning_rate        | 0.0003      |\n",
      "|    loss                 | 12.9        |\n",
      "|    n_updates            | 30          |\n",
      "|    policy_gradient_loss | -0.0219     |\n",
      "|    value_loss           | 50.5        |\n",
      "-----------------------------------------\n",
      "-----------------------------------------\n",
      "| time/                   |             |\n",
      "|    fps                  | 518         |\n",
      "|    iterations           | 5           |\n",
      "|    time_elapsed         | 19          |\n",
      "|    total_timesteps      | 10240       |\n",
      "| train/                  |             |\n",
      "|    approx_kl            | 0.010081942 |\n",
      "|    clip_fraction        | 0.0706      |\n",
      "|    clip_range           | 0.2         |\n",
      "|    entropy_loss         | -0.609      |\n",
      "|    explained_variance   | 0.333       |\n",
      "|    learning_rate        | 0.0003      |\n",
      "|    loss                 | 20.6        |\n",
      "|    n_updates            | 40          |\n",
      "|    policy_gradient_loss | -0.0156     |\n",
      "|    value_loss           | 63.2        |\n",
      "-----------------------------------------\n",
      "-----------------------------------------\n",
      "| time/                   |             |\n",
      "|    fps                  | 512         |\n",
      "|    iterations           | 6           |\n",
      "|    time_elapsed         | 23          |\n",
      "|    total_timesteps      | 12288       |\n",
      "| train/                  |             |\n",
      "|    approx_kl            | 0.009578536 |\n",
      "|    clip_fraction        | 0.0605      |\n",
      "|    clip_range           | 0.2         |\n",
      "|    entropy_loss         | -0.587      |\n",
      "|    explained_variance   | 0.339       |\n",
      "|    learning_rate        | 0.0003      |\n",
      "|    loss                 | 18.9        |\n",
      "|    n_updates            | 50          |\n",
      "|    policy_gradient_loss | -0.0136     |\n",
      "|    value_loss           | 65.5        |\n",
      "-----------------------------------------\n",
      "------------------------------------------\n",
      "| time/                   |              |\n",
      "|    fps                  | 508          |\n",
      "|    iterations           | 7            |\n",
      "|    time_elapsed         | 28           |\n",
      "|    total_timesteps      | 14336        |\n",
      "| train/                  |              |\n",
      "|    approx_kl            | 0.0037024124 |\n",
      "|    clip_fraction        | 0.0165       |\n",
      "|    clip_range           | 0.2          |\n",
      "|    entropy_loss         | -0.574       |\n",
      "|    explained_variance   | 0.583        |\n",
      "|    learning_rate        | 0.0003       |\n",
      "|    loss                 | 14.3         |\n",
      "|    n_updates            | 60           |\n",
      "|    policy_gradient_loss | -0.00313     |\n",
      "|    value_loss           | 47.3         |\n",
      "------------------------------------------\n",
      "------------------------------------------\n",
      "| time/                   |              |\n",
      "|    fps                  | 506          |\n",
      "|    iterations           | 8            |\n",
      "|    time_elapsed         | 32           |\n",
      "|    total_timesteps      | 16384        |\n",
      "| train/                  |              |\n",
      "|    approx_kl            | 0.0054696975 |\n",
      "|    clip_fraction        | 0.0312       |\n",
      "|    clip_range           | 0.2          |\n",
      "|    entropy_loss         | -0.557       |\n",
      "|    explained_variance   | 0.464        |\n",
      "|    learning_rate        | 0.0003       |\n",
      "|    loss                 | 10.1         |\n",
      "|    n_updates            | 70           |\n",
      "|    policy_gradient_loss | -0.00428     |\n",
      "|    value_loss           | 63.4         |\n",
      "------------------------------------------\n",
      "-----------------------------------------\n",
      "| time/                   |             |\n",
      "|    fps                  | 505         |\n",
      "|    iterations           | 9           |\n",
      "|    time_elapsed         | 36          |\n",
      "|    total_timesteps      | 18432       |\n",
      "| train/                  |             |\n",
      "|    approx_kl            | 0.004953696 |\n",
      "|    clip_fraction        | 0.0565      |\n",
      "|    clip_range           | 0.2         |\n",
      "|    entropy_loss         | -0.586      |\n",
      "|    explained_variance   | 0.761       |\n",
      "|    learning_rate        | 0.0003      |\n",
      "|    loss                 | 22.3        |\n",
      "|    n_updates            | 80          |\n",
      "|    policy_gradient_loss | -0.00464    |\n",
      "|    value_loss           | 39.7        |\n",
      "-----------------------------------------\n",
      "-----------------------------------------\n",
      "| time/                   |             |\n",
      "|    fps                  | 504         |\n",
      "|    iterations           | 10          |\n",
      "|    time_elapsed         | 40          |\n",
      "|    total_timesteps      | 20480       |\n",
      "| train/                  |             |\n",
      "|    approx_kl            | 0.002191495 |\n",
      "|    clip_fraction        | 0.00737     |\n",
      "|    clip_range           | 0.2         |\n",
      "|    entropy_loss         | -0.572      |\n",
      "|    explained_variance   | 0.754       |\n",
      "|    learning_rate        | 0.0003      |\n",
      "|    loss                 | 36.2        |\n",
      "|    n_updates            | 90          |\n",
      "|    policy_gradient_loss | -0.00139    |\n",
      "|    value_loss           | 50.1        |\n",
      "-----------------------------------------\n"
     ]
    },
    {
     "data": {
      "text/plain": [
       "<stable_baselines3.ppo.ppo.PPO at 0x7f3f68b8e880>"
      ]
     },
     "execution_count": 9,
     "metadata": {},
     "output_type": "execute_result"
    }
   ],
   "source": [
    "model.learn(total_timesteps=20000)"
   ]
  },
  {
   "cell_type": "code",
   "execution_count": 10,
   "id": "09dfed6d-8796-496b-a92d-6eb821a7afea",
   "metadata": {},
   "outputs": [],
   "source": [
    "PPO_path = os.path.join('My Training', 'Saved Models', 'PPO_model_car')"
   ]
  },
  {
   "cell_type": "code",
   "execution_count": 12,
   "id": "a1c6b8d1-fd67-48e3-b1ed-c5f24dcccf52",
   "metadata": {},
   "outputs": [],
   "source": [
    "model.save(PPO_path)"
   ]
  },
  {
   "cell_type": "markdown",
   "id": "31953ca7-57bd-4073-a1e1-9db165350833",
   "metadata": {},
   "source": [
    "# 4. Evaluation"
   ]
  },
  {
   "cell_type": "code",
   "execution_count": 15,
   "id": "77ad29c0-36c4-4204-816c-0df0a11a08a3",
   "metadata": {},
   "outputs": [],
   "source": [
    "from stable_baselines3.common.evaluation import evaluate_policy"
   ]
  },
  {
   "cell_type": "code",
   "execution_count": 16,
   "id": "93477657-e279-47dc-875e-e99dacd10e20",
   "metadata": {},
   "outputs": [
    {
     "data": {
      "text/plain": [
       "(200.0, 0.0)"
      ]
     },
     "execution_count": 16,
     "metadata": {},
     "output_type": "execute_result"
    }
   ],
   "source": [
    "evaluate_policy(model, env, n_eval_episodes=10, render=True)"
   ]
  },
  {
   "cell_type": "code",
   "execution_count": 17,
   "id": "5fad89d9-7f7b-49dd-8304-8637eb2c868f",
   "metadata": {},
   "outputs": [],
   "source": [
    "env.close()"
   ]
  },
  {
   "cell_type": "markdown",
   "id": "ce0c3a8c-2467-4837-9594-815b43d8b669",
   "metadata": {},
   "source": [
    "# 5. Test Model"
   ]
  },
  {
   "cell_type": "code",
   "execution_count": 28,
   "id": "3f481464-2066-435e-b945-42066d124c24",
   "metadata": {},
   "outputs": [
    {
     "name": "stdout",
     "output_type": "stream",
     "text": [
      "info [{'TimeLimit.truncated': True, 'terminal_observation': array([-1.00543412, -1.11502938, -0.01870643,  0.49388409])}]\n",
      "Rewards 200.0\n"
     ]
    }
   ],
   "source": [
    "obs = env.reset()\n",
    "score = 0\n",
    "while True:\n",
    "    action, _states = model.predict(obs)\n",
    "    obs, rewards, done, info = env.step(action)\n",
    "    score+=reward\n",
    "    env.render()\n",
    "    if done: \n",
    "        print('info', info)\n",
    "        print('Rewards', score)\n",
    "        break"
   ]
  },
  {
   "cell_type": "code",
   "execution_count": 29,
   "id": "dfb00b23-fa14-43ed-b159-39df248344b8",
   "metadata": {},
   "outputs": [],
   "source": [
    "env.close()"
   ]
  },
  {
   "cell_type": "code",
   "execution_count": null,
   "id": "8757f23d-b15c-4c63-a89c-22fe9d82c22c",
   "metadata": {},
   "outputs": [],
   "source": []
  }
 ],
 "metadata": {
  "kernelspec": {
   "display_name": "Python 3 (ipykernel)",
   "language": "python",
   "name": "python3"
  },
  "language_info": {
   "codemirror_mode": {
    "name": "ipython",
    "version": 3
   },
   "file_extension": ".py",
   "mimetype": "text/x-python",
   "name": "python",
   "nbconvert_exporter": "python",
   "pygments_lexer": "ipython3",
   "version": "3.8.11"
  }
 },
 "nbformat": 4,
 "nbformat_minor": 5
}
